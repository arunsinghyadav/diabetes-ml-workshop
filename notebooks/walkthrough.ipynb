{
 "cells": [
  {
   "cell_type": "markdown",
   "metadata": {},
   "source": [
    "<img src=\"https://s3.us-east-2.amazonaws.com/hidden.layers.assets/patient_image.png\" width=\"30%\" align=\"right\"/>\n",
    "\n",
    "# Building a Binary Classification Machine Learning Model To Predict Hospital Readmission in Patients with Diabetes\n",
    "\n",
    "In this tutorial, we'll be looking at hospital admission data in patients with diabetes. This dataset was collected from 130 hospitals in the United States from 1999 to 2008. More details can be found on the UCI Machine Learning Repository [website](https://archive.ics.uci.edu/ml/datasets/diabetes+130-us+hospitals+for+years+1999-2008)."
   ]
  },
  {
   "cell_type": "markdown",
   "metadata": {},
   "source": [
    "## Step 1: Importing Depedencies\n",
    "\n",
    "Before getting started, we'll need to import several packages. These include:\n",
    "\n",
    "- [pandas](https://pandas.pydata.org/pandas-docs/stable/) - a package for performing data analysis and manipulation\n",
    "- [numpy](https://docs.scipy.org/doc/numpy/) - a package for scientific computing \n",
    "- [matplotlib](https://matplotlib.org/) - the standard Python plotting package\n",
    "- [seaborn](https://seaborn.pydata.org/) - a dataframe-centric visualization package that is built off of **matplotlib**"
   ]
  },
  {
   "cell_type": "code",
   "execution_count": 100,
   "metadata": {},
   "outputs": [],
   "source": [
    "import os\n",
    "import sys\n",
    "sys.path.insert(0, os.path.abspath('..'))\n",
    "\n",
    "import pandas as pd\n",
    "import numpy as np\n",
    "import matplotlib.pyplot as plt\n",
    "import seaborn as sns"
   ]
  },
  {
   "cell_type": "markdown",
   "metadata": {},
   "source": [
    "## Step 2: Load the Data\n",
    "\n",
    "We will be loading in the data as a pandas DataFrame.\n",
    "\n",
    "The data is stored in a csv file. We'll import this data using a pandas method called `read_csv`."
   ]
  },
  {
   "cell_type": "code",
   "execution_count": 102,
   "metadata": {},
   "outputs": [],
   "source": [
    "data = pd.read_csv(\"../data/patient_data.csv\")"
   ]
  },
  {
   "cell_type": "markdown",
   "metadata": {},
   "source": [
    "To get a glimpse of our data, we can use either the `head()`, which shows the first 5 rows of the dataframe."
   ]
  },
  {
   "cell_type": "code",
   "execution_count": 16,
   "metadata": {},
   "outputs": [
    {
     "data": {
      "text/html": [
       "<div>\n",
       "<style scoped>\n",
       "    .dataframe tbody tr th:only-of-type {\n",
       "        vertical-align: middle;\n",
       "    }\n",
       "\n",
       "    .dataframe tbody tr th {\n",
       "        vertical-align: top;\n",
       "    }\n",
       "\n",
       "    .dataframe thead th {\n",
       "        text-align: right;\n",
       "    }\n",
       "</style>\n",
       "<table border=\"1\" class=\"dataframe\">\n",
       "  <thead>\n",
       "    <tr style=\"text-align: right;\">\n",
       "      <th></th>\n",
       "      <th>encounter_id</th>\n",
       "      <th>patient_nbr</th>\n",
       "      <th>race</th>\n",
       "      <th>gender</th>\n",
       "      <th>age</th>\n",
       "      <th>weight</th>\n",
       "      <th>admission_type_id</th>\n",
       "      <th>admission_source_id</th>\n",
       "      <th>time_in_hospital</th>\n",
       "      <th>medical_specialty</th>\n",
       "      <th>...</th>\n",
       "      <th>examide</th>\n",
       "      <th>citoglipton</th>\n",
       "      <th>insulin</th>\n",
       "      <th>glyburide-metformin</th>\n",
       "      <th>glipizide-metformin</th>\n",
       "      <th>glimepiride-pioglitazone</th>\n",
       "      <th>metformin-rosiglitazone</th>\n",
       "      <th>metformin-pioglitazone</th>\n",
       "      <th>diabetesMed</th>\n",
       "      <th>readmitted</th>\n",
       "    </tr>\n",
       "  </thead>\n",
       "  <tbody>\n",
       "    <tr>\n",
       "      <th>0</th>\n",
       "      <td>2278392</td>\n",
       "      <td>8222157</td>\n",
       "      <td>Caucasian</td>\n",
       "      <td>Female</td>\n",
       "      <td>[0-10)</td>\n",
       "      <td>NaN</td>\n",
       "      <td>6</td>\n",
       "      <td>1</td>\n",
       "      <td>1</td>\n",
       "      <td>Pediatrics-Endocrinology</td>\n",
       "      <td>...</td>\n",
       "      <td>No</td>\n",
       "      <td>No</td>\n",
       "      <td>No</td>\n",
       "      <td>No</td>\n",
       "      <td>No</td>\n",
       "      <td>No</td>\n",
       "      <td>No</td>\n",
       "      <td>No</td>\n",
       "      <td>No</td>\n",
       "      <td>NO</td>\n",
       "    </tr>\n",
       "    <tr>\n",
       "      <th>1</th>\n",
       "      <td>149190</td>\n",
       "      <td>55629189</td>\n",
       "      <td>Caucasian</td>\n",
       "      <td>Female</td>\n",
       "      <td>[10-20)</td>\n",
       "      <td>NaN</td>\n",
       "      <td>1</td>\n",
       "      <td>7</td>\n",
       "      <td>3</td>\n",
       "      <td>NaN</td>\n",
       "      <td>...</td>\n",
       "      <td>No</td>\n",
       "      <td>No</td>\n",
       "      <td>Up</td>\n",
       "      <td>No</td>\n",
       "      <td>No</td>\n",
       "      <td>No</td>\n",
       "      <td>No</td>\n",
       "      <td>No</td>\n",
       "      <td>Yes</td>\n",
       "      <td>&gt;30</td>\n",
       "    </tr>\n",
       "    <tr>\n",
       "      <th>2</th>\n",
       "      <td>64410</td>\n",
       "      <td>86047875</td>\n",
       "      <td>AfricanAmerican</td>\n",
       "      <td>Female</td>\n",
       "      <td>[20-30)</td>\n",
       "      <td>NaN</td>\n",
       "      <td>1</td>\n",
       "      <td>7</td>\n",
       "      <td>2</td>\n",
       "      <td>NaN</td>\n",
       "      <td>...</td>\n",
       "      <td>No</td>\n",
       "      <td>No</td>\n",
       "      <td>No</td>\n",
       "      <td>No</td>\n",
       "      <td>No</td>\n",
       "      <td>No</td>\n",
       "      <td>No</td>\n",
       "      <td>No</td>\n",
       "      <td>Yes</td>\n",
       "      <td>NO</td>\n",
       "    </tr>\n",
       "    <tr>\n",
       "      <th>3</th>\n",
       "      <td>500364</td>\n",
       "      <td>82442376</td>\n",
       "      <td>Caucasian</td>\n",
       "      <td>Male</td>\n",
       "      <td>[30-40)</td>\n",
       "      <td>NaN</td>\n",
       "      <td>1</td>\n",
       "      <td>7</td>\n",
       "      <td>2</td>\n",
       "      <td>NaN</td>\n",
       "      <td>...</td>\n",
       "      <td>No</td>\n",
       "      <td>No</td>\n",
       "      <td>Up</td>\n",
       "      <td>No</td>\n",
       "      <td>No</td>\n",
       "      <td>No</td>\n",
       "      <td>No</td>\n",
       "      <td>No</td>\n",
       "      <td>Yes</td>\n",
       "      <td>NO</td>\n",
       "    </tr>\n",
       "    <tr>\n",
       "      <th>4</th>\n",
       "      <td>16680</td>\n",
       "      <td>42519267</td>\n",
       "      <td>Caucasian</td>\n",
       "      <td>Male</td>\n",
       "      <td>[40-50)</td>\n",
       "      <td>NaN</td>\n",
       "      <td>1</td>\n",
       "      <td>7</td>\n",
       "      <td>1</td>\n",
       "      <td>NaN</td>\n",
       "      <td>...</td>\n",
       "      <td>No</td>\n",
       "      <td>No</td>\n",
       "      <td>Steady</td>\n",
       "      <td>No</td>\n",
       "      <td>No</td>\n",
       "      <td>No</td>\n",
       "      <td>No</td>\n",
       "      <td>No</td>\n",
       "      <td>Yes</td>\n",
       "      <td>NO</td>\n",
       "    </tr>\n",
       "  </tbody>\n",
       "</table>\n",
       "<p>5 rows × 44 columns</p>\n",
       "</div>"
      ],
      "text/plain": [
       "   encounter_id  patient_nbr             race  gender      age weight  \\\n",
       "0       2278392      8222157        Caucasian  Female   [0-10)    NaN   \n",
       "1        149190     55629189        Caucasian  Female  [10-20)    NaN   \n",
       "2         64410     86047875  AfricanAmerican  Female  [20-30)    NaN   \n",
       "3        500364     82442376        Caucasian    Male  [30-40)    NaN   \n",
       "4         16680     42519267        Caucasian    Male  [40-50)    NaN   \n",
       "\n",
       "   admission_type_id  admission_source_id  time_in_hospital  \\\n",
       "0                  6                    1                 1   \n",
       "1                  1                    7                 3   \n",
       "2                  1                    7                 2   \n",
       "3                  1                    7                 2   \n",
       "4                  1                    7                 1   \n",
       "\n",
       "          medical_specialty    ...      examide  citoglipton  insulin  \\\n",
       "0  Pediatrics-Endocrinology    ...           No           No       No   \n",
       "1                       NaN    ...           No           No       Up   \n",
       "2                       NaN    ...           No           No       No   \n",
       "3                       NaN    ...           No           No       Up   \n",
       "4                       NaN    ...           No           No   Steady   \n",
       "\n",
       "   glyburide-metformin  glipizide-metformin  glimepiride-pioglitazone  \\\n",
       "0                   No                   No                        No   \n",
       "1                   No                   No                        No   \n",
       "2                   No                   No                        No   \n",
       "3                   No                   No                        No   \n",
       "4                   No                   No                        No   \n",
       "\n",
       "   metformin-rosiglitazone metformin-pioglitazone diabetesMed readmitted  \n",
       "0                       No                     No          No         NO  \n",
       "1                       No                     No         Yes        >30  \n",
       "2                       No                     No         Yes         NO  \n",
       "3                       No                     No         Yes         NO  \n",
       "4                       No                     No         Yes         NO  \n",
       "\n",
       "[5 rows x 44 columns]"
      ]
     },
     "execution_count": 16,
     "metadata": {},
     "output_type": "execute_result"
    }
   ],
   "source": [
    "data.head()"
   ]
  },
  {
   "cell_type": "markdown",
   "metadata": {},
   "source": [
    "### How many rows and columns are in our dataset?"
   ]
  },
  {
   "cell_type": "code",
   "execution_count": 17,
   "metadata": {},
   "outputs": [
    {
     "data": {
      "text/plain": [
       "(101766, 44)"
      ]
     },
     "execution_count": 17,
     "metadata": {},
     "output_type": "execute_result"
    }
   ],
   "source": [
    "data.shape"
   ]
  },
  {
   "cell_type": "markdown",
   "metadata": {},
   "source": [
    "Our dataset has 101,766 rows and 45 columns. Each row represents a unique hospital admission. Columns represent patient demographics, medical details, and admission-specific information such as length of stay (`time_in_hospital`). We can see a list of all columns by applying `.columns` to our dataframe."
   ]
  },
  {
   "cell_type": "code",
   "execution_count": 18,
   "metadata": {},
   "outputs": [
    {
     "name": "stdout",
     "output_type": "stream",
     "text": [
      "Columns: ['encounter_id', 'patient_nbr', 'race', 'gender', 'age', 'weight', 'admission_type_id', 'admission_source_id', 'time_in_hospital', 'medical_specialty', 'num_lab_procedures', 'num_procedures', 'num_medications', 'number_outpatient', 'number_emergency', 'number_inpatient', 'number_diagnoses', 'max_glu_serum', 'A1Cresult', 'metformin', 'repaglinide', 'nateglinide', 'chlorpropamide', 'glimepiride', 'acetohexamide', 'glipizide', 'glyburide', 'tolbutamide', 'pioglitazone', 'rosiglitazone', 'acarbose', 'miglitol', 'troglitazone', 'tolazamide', 'examide', 'citoglipton', 'insulin', 'glyburide-metformin', 'glipizide-metformin', 'glimepiride-pioglitazone', 'metformin-rosiglitazone', 'metformin-pioglitazone', 'diabetesMed', 'readmitted']\n"
     ]
    }
   ],
   "source": [
    "print(f\"Columns: {data.columns.tolist()}\")"
   ]
  },
  {
   "cell_type": "markdown",
   "metadata": {},
   "source": [
    "Looking at the columns, we can see that a large proportion are medication names. Let's store these column names as a separate list, which we'll get back to in a bit."
   ]
  },
  {
   "cell_type": "code",
   "execution_count": 19,
   "metadata": {},
   "outputs": [
    {
     "name": "stdout",
     "output_type": "stream",
     "text": [
      "There are 23 medications represented as columns in the dataset.\n"
     ]
    }
   ],
   "source": [
    "medications = ['metformin', 'repaglinide', 'nateglinide', 'chlorpropamide', 'glimepiride', \n",
    "    'acetohexamide', 'glipizide', 'glyburide', 'tolbutamide', 'pioglitazone', \n",
    "    'rosiglitazone', 'acarbose', 'miglitol', 'troglitazone', 'tolazamide', \n",
    "    'examide', 'citoglipton', 'insulin', 'glyburide-metformin', 'glipizide-metformin',\n",
    "    'glimepiride-pioglitazone', 'metformin-rosiglitazone', 'metformin-pioglitazone']\n",
    "\n",
    "print(f\"There are {len(medications)} medications represented as columns in the dataset.\")"
   ]
  },
  {
   "cell_type": "markdown",
   "metadata": {},
   "source": [
    "### How many hospital admissions and unique patients are in the dataset? "
   ]
  },
  {
   "cell_type": "code",
   "execution_count": 20,
   "metadata": {},
   "outputs": [
    {
     "name": "stdout",
     "output_type": "stream",
     "text": [
      "Number of hospital admissions: 101,766\n",
      "Number of unique patients: 71,518\n"
     ]
    }
   ],
   "source": [
    "n_admissions = data['encounter_id'].nunique()\n",
    "n_patients = data['patient_nbr'].nunique()\n",
    "\n",
    "print(f\"Number of hospital admissions: {n_admissions:,}\")\n",
    "print(f\"Number of unique patients: {n_patients:,}\")"
   ]
  },
  {
   "cell_type": "markdown",
   "metadata": {},
   "source": [
    "### How many patients have had more than one hospital admission?"
   ]
  },
  {
   "cell_type": "code",
   "execution_count": 21,
   "metadata": {},
   "outputs": [],
   "source": [
    "admissions_per_patient = data['patient_nbr'].value_counts().reset_index()\n",
    "admissions_per_patient.columns = ['patient_nbr', 'count']\n",
    "multiple_admissions = admissions_per_patient[admissions_per_patient['count'] > 1]"
   ]
  },
  {
   "cell_type": "code",
   "execution_count": 22,
   "metadata": {},
   "outputs": [
    {
     "name": "stdout",
     "output_type": "stream",
     "text": [
      "Proportion of patients that have multiple admissions: 23.45%\n",
      "Maximum number of admissions for a given patient: 40\n"
     ]
    }
   ],
   "source": [
    "print(f\"Proportion of patients that have multiple admissions: {multiple_admissions['patient_nbr'].nunique()/n_patients:.2%}\")\n",
    "print(f\"Maximum number of admissions for a given patient: {multiple_admissions['count'].max()}\")"
   ]
  },
  {
   "cell_type": "markdown",
   "metadata": {},
   "source": [
    "Almost one-quarter of the patients (23.45%) have had more than 1 hosptial admission. The maximum number of hospital admissions for a given patient is 40. "
   ]
  },
  {
   "cell_type": "markdown",
   "metadata": {},
   "source": [
    "## Step 3: Data Cleaning\n",
    "\n",
    "Data cleaning is a crucial step in the machine learning pipeline, and typically requires the most time and effort."
   ]
  },
  {
   "cell_type": "markdown",
   "metadata": {},
   "source": [
    "### i) Decoding admission_type_id\n",
    "\n",
    "The `admission_type_id` column represent ID's that link to descriptors in separate files: \n",
    "\n",
    "1. `admission_type_id`\n",
    "2. `admission_source_id`\n",
    "\n",
    "In the original dataset, these columns are represented as integers. "
   ]
  },
  {
   "cell_type": "code",
   "execution_count": 23,
   "metadata": {},
   "outputs": [
    {
     "data": {
      "text/html": [
       "<div>\n",
       "<style scoped>\n",
       "    .dataframe tbody tr th:only-of-type {\n",
       "        vertical-align: middle;\n",
       "    }\n",
       "\n",
       "    .dataframe tbody tr th {\n",
       "        vertical-align: top;\n",
       "    }\n",
       "\n",
       "    .dataframe thead th {\n",
       "        text-align: right;\n",
       "    }\n",
       "</style>\n",
       "<table border=\"1\" class=\"dataframe\">\n",
       "  <thead>\n",
       "    <tr style=\"text-align: right;\">\n",
       "      <th></th>\n",
       "      <th>admission_type_id</th>\n",
       "      <th>admission_source_id</th>\n",
       "    </tr>\n",
       "  </thead>\n",
       "  <tbody>\n",
       "    <tr>\n",
       "      <th>0</th>\n",
       "      <td>6</td>\n",
       "      <td>1</td>\n",
       "    </tr>\n",
       "    <tr>\n",
       "      <th>1</th>\n",
       "      <td>1</td>\n",
       "      <td>7</td>\n",
       "    </tr>\n",
       "    <tr>\n",
       "      <th>2</th>\n",
       "      <td>1</td>\n",
       "      <td>7</td>\n",
       "    </tr>\n",
       "    <tr>\n",
       "      <th>3</th>\n",
       "      <td>1</td>\n",
       "      <td>7</td>\n",
       "    </tr>\n",
       "    <tr>\n",
       "      <th>4</th>\n",
       "      <td>1</td>\n",
       "      <td>7</td>\n",
       "    </tr>\n",
       "  </tbody>\n",
       "</table>\n",
       "</div>"
      ],
      "text/plain": [
       "   admission_type_id  admission_source_id\n",
       "0                  6                    1\n",
       "1                  1                    7\n",
       "2                  1                    7\n",
       "3                  1                    7\n",
       "4                  1                    7"
      ]
     },
     "execution_count": 23,
     "metadata": {},
     "output_type": "execute_result"
    }
   ],
   "source": [
    "data[['admission_type_id', 'admission_source_id']].head()"
   ]
  },
  {
   "cell_type": "markdown",
   "metadata": {},
   "source": [
    "We'll update these columns so that they represent the descriptor name instead of simply the id number.\n",
    "\n",
    "Our mapper files are located in `data/id_mappers/` as shown below."
   ]
  },
  {
   "cell_type": "code",
   "execution_count": 24,
   "metadata": {},
   "outputs": [
    {
     "data": {
      "text/plain": [
       "['../data/id_mappers/admission_source_id.csv',\n",
       " '../data/id_mappers/admission_type_id.csv']"
      ]
     },
     "execution_count": 24,
     "metadata": {},
     "output_type": "execute_result"
    }
   ],
   "source": [
    "import glob\n",
    "\n",
    "glob.glob('../data/id_mappers/*.csv')"
   ]
  },
  {
   "cell_type": "markdown",
   "metadata": {},
   "source": [
    "#### Decoding  `admission_type_id`"
   ]
  },
  {
   "cell_type": "code",
   "execution_count": 25,
   "metadata": {},
   "outputs": [
    {
     "data": {
      "text/html": [
       "<div>\n",
       "<style scoped>\n",
       "    .dataframe tbody tr th:only-of-type {\n",
       "        vertical-align: middle;\n",
       "    }\n",
       "\n",
       "    .dataframe tbody tr th {\n",
       "        vertical-align: top;\n",
       "    }\n",
       "\n",
       "    .dataframe thead th {\n",
       "        text-align: right;\n",
       "    }\n",
       "</style>\n",
       "<table border=\"1\" class=\"dataframe\">\n",
       "  <thead>\n",
       "    <tr style=\"text-align: right;\">\n",
       "      <th></th>\n",
       "      <th>admission_type_id</th>\n",
       "      <th>description</th>\n",
       "    </tr>\n",
       "  </thead>\n",
       "  <tbody>\n",
       "    <tr>\n",
       "      <th>0</th>\n",
       "      <td>1</td>\n",
       "      <td>Emergency</td>\n",
       "    </tr>\n",
       "    <tr>\n",
       "      <th>1</th>\n",
       "      <td>2</td>\n",
       "      <td>Urgent</td>\n",
       "    </tr>\n",
       "    <tr>\n",
       "      <th>...</th>\n",
       "      <td>...</td>\n",
       "      <td>...</td>\n",
       "    </tr>\n",
       "    <tr>\n",
       "      <th>6</th>\n",
       "      <td>7</td>\n",
       "      <td>Trauma Center</td>\n",
       "    </tr>\n",
       "    <tr>\n",
       "      <th>7</th>\n",
       "      <td>8</td>\n",
       "      <td>Not Mapped</td>\n",
       "    </tr>\n",
       "  </tbody>\n",
       "</table>\n",
       "<p>8 rows × 2 columns</p>\n",
       "</div>"
      ],
      "text/plain": [
       "    admission_type_id    description\n",
       "0                   1      Emergency\n",
       "1                   2         Urgent\n",
       "..                ...            ...\n",
       "6                   7  Trauma Center\n",
       "7                   8     Not Mapped\n",
       "\n",
       "[8 rows x 2 columns]"
      ]
     },
     "execution_count": 25,
     "metadata": {},
     "output_type": "execute_result"
    }
   ],
   "source": [
    "admission_type = pd.read_csv(\"../data/id_mappers/admission_type_id.csv\")\n",
    "admission_type"
   ]
  },
  {
   "cell_type": "markdown",
   "metadata": {},
   "source": [
    "We can see that the admission type mapper file has 3 values which represent missing data:\n",
    "\n",
    "1. NaN\n",
    "2. 'Not Mapped'\n",
    "3. 'Not Available'\n",
    "\n",
    "Let's collapse these into one category that represents a missing value. "
   ]
  },
  {
   "cell_type": "code",
   "execution_count": 26,
   "metadata": {},
   "outputs": [],
   "source": [
    "missing_values = ['nan', 'Not Available', 'Not Mapped']\n",
    "admission_type['description'] = admission_type['description'].replace(missing_values, np.nan)"
   ]
  },
  {
   "cell_type": "code",
   "execution_count": 27,
   "metadata": {},
   "outputs": [
    {
     "data": {
      "text/plain": [
       "{0: 'Emergency',\n",
       " 1: 'Urgent',\n",
       " 2: 'Elective',\n",
       " 3: 'Newborn',\n",
       " 4: nan,\n",
       " 5: nan,\n",
       " 6: 'Trauma Center',\n",
       " 7: nan}"
      ]
     },
     "execution_count": 27,
     "metadata": {},
     "output_type": "execute_result"
    }
   ],
   "source": [
    "admission_type_mapper = admission_type.to_dict()['description']\n",
    "admission_type_mapper"
   ]
  },
  {
   "cell_type": "markdown",
   "metadata": {},
   "source": [
    "Now that we have a \"clean\" mapper, we can apply it to our dataset. We can use [pandas.Series.map](https://pandas.pydata.org/pandas-docs/stable/reference/api/pandas.Series.map.html) to map `admission_type_id` values in our original dataframe to the descriptors in our `admission_type_mapper` dictionary."
   ]
  },
  {
   "cell_type": "code",
   "execution_count": 28,
   "metadata": {},
   "outputs": [
    {
     "data": {
      "text/html": [
       "<div>\n",
       "<style scoped>\n",
       "    .dataframe tbody tr th:only-of-type {\n",
       "        vertical-align: middle;\n",
       "    }\n",
       "\n",
       "    .dataframe tbody tr th {\n",
       "        vertical-align: top;\n",
       "    }\n",
       "\n",
       "    .dataframe thead th {\n",
       "        text-align: right;\n",
       "    }\n",
       "</style>\n",
       "<table border=\"1\" class=\"dataframe\">\n",
       "  <thead>\n",
       "    <tr style=\"text-align: right;\">\n",
       "      <th></th>\n",
       "      <th>admission_type</th>\n",
       "    </tr>\n",
       "  </thead>\n",
       "  <tbody>\n",
       "    <tr>\n",
       "      <th>0</th>\n",
       "      <td>Trauma Center</td>\n",
       "    </tr>\n",
       "    <tr>\n",
       "      <th>1</th>\n",
       "      <td>Urgent</td>\n",
       "    </tr>\n",
       "    <tr>\n",
       "      <th>2</th>\n",
       "      <td>Urgent</td>\n",
       "    </tr>\n",
       "    <tr>\n",
       "      <th>3</th>\n",
       "      <td>Urgent</td>\n",
       "    </tr>\n",
       "    <tr>\n",
       "      <th>4</th>\n",
       "      <td>Urgent</td>\n",
       "    </tr>\n",
       "  </tbody>\n",
       "</table>\n",
       "</div>"
      ],
      "text/plain": [
       "  admission_type\n",
       "0  Trauma Center\n",
       "1         Urgent\n",
       "2         Urgent\n",
       "3         Urgent\n",
       "4         Urgent"
      ]
     },
     "execution_count": 28,
     "metadata": {},
     "output_type": "execute_result"
    }
   ],
   "source": [
    "data['admission_type'] = data['admission_type_id'].map(admission_type_mapper)\n",
    "data[['admission_type']].head()"
   ]
  },
  {
   "cell_type": "markdown",
   "metadata": {},
   "source": [
    "#### Decoding  `admission_source_id`"
   ]
  },
  {
   "cell_type": "code",
   "execution_count": 29,
   "metadata": {},
   "outputs": [
    {
     "data": {
      "text/plain": [
       "(25, 2)"
      ]
     },
     "execution_count": 29,
     "metadata": {},
     "output_type": "execute_result"
    }
   ],
   "source": [
    "admission_source = pd.read_csv(\"../data/id_mappers/admission_source_id.csv\")\n",
    "admission_source.shape"
   ]
  },
  {
   "cell_type": "markdown",
   "metadata": {},
   "source": [
    "There are significantly more ID's represented in the `admission_source_id.csv` file as compared to `admission_type_id.csv`. Let's take a look at the list of all descriptions."
   ]
  },
  {
   "cell_type": "code",
   "execution_count": 30,
   "metadata": {},
   "outputs": [
    {
     "data": {
      "text/plain": [
       "['Physician Referral',\n",
       " 'Clinic Referral',\n",
       " 'HMO Referral',\n",
       " 'Transfer from a hospital',\n",
       " 'Transfer from a Skilled Nursing Facility (SNF)',\n",
       " 'Transfer from another health care facility',\n",
       " 'Emergency Room',\n",
       " 'Court/Law Enforcement',\n",
       " 'Not Available',\n",
       " 'Transfer from critial access hospital',\n",
       " 'Normal Delivery',\n",
       " 'Premature Delivery',\n",
       " 'Sick Baby',\n",
       " 'Extramural Birth',\n",
       " 'Not Available',\n",
       " nan,\n",
       " 'Transfer From Another Home Health Agency',\n",
       " 'Readmission to Same Home Health Agency',\n",
       " 'Not Mapped',\n",
       " 'Unknown/Invalid',\n",
       " 'Transfer from hospital inpt/same fac reslt in a sep claim',\n",
       " 'Born inside this hospital',\n",
       " 'Born outside this hospital',\n",
       " 'Transfer from Ambulatory Surgery Center',\n",
       " 'Transfer from Hospice']"
      ]
     },
     "execution_count": 30,
     "metadata": {},
     "output_type": "execute_result"
    }
   ],
   "source": [
    "admission_source['description'].tolist()"
   ]
  },
  {
   "cell_type": "markdown",
   "metadata": {},
   "source": [
    "Here, we can see that there are 4 missing values:\n",
    "\n",
    "- 'Not Available' \n",
    "- 'Unknown/Invalid'\n",
    "- 'Not Mapped'\n",
    "- 'nan'"
   ]
  },
  {
   "cell_type": "code",
   "execution_count": 31,
   "metadata": {},
   "outputs": [],
   "source": [
    "missing_values = ['nan', 'Not Available', 'Not Mapped', 'Unknown/Invalid']\n",
    "admission_source['description'] = admission_source['description'].replace(missing_values, np.nan)"
   ]
  },
  {
   "cell_type": "markdown",
   "metadata": {},
   "source": [
    "There are also a couple of overlapping themes in admission source descriptions. For example, `'Physician Referral'`, `'Clinic Referral'`, and `'HMO Referral'` can be grouped as `Referral`. Let's do this now using pandas' replace() method."
   ]
  },
  {
   "cell_type": "code",
   "execution_count": 32,
   "metadata": {},
   "outputs": [],
   "source": [
    "referrals = ['Physician Referral', 'Clinic Referral', 'HMO Referral']\n",
    "admission_source['description'] = admission_source['description'].replace(referrals, 'Referral')"
   ]
  },
  {
   "cell_type": "markdown",
   "metadata": {},
   "source": [
    "We can also group transfer-related admission sources into a single description called `Transfer`. There are 8 admission sources that include `'Transfer'`. Instead of going through the list and selecting these manually, we're going to use pandas.Series's [contains()](https://pandas.pydata.org/pandas-docs/stable/reference/api/pandas.Series.str.contains.html) method to filter out admission source descriptions that contain the string `'Transfer'`. "
   ]
  },
  {
   "cell_type": "code",
   "execution_count": 33,
   "metadata": {},
   "outputs": [
    {
     "data": {
      "text/html": [
       "<div>\n",
       "<style scoped>\n",
       "    .dataframe tbody tr th:only-of-type {\n",
       "        vertical-align: middle;\n",
       "    }\n",
       "\n",
       "    .dataframe tbody tr th {\n",
       "        vertical-align: top;\n",
       "    }\n",
       "\n",
       "    .dataframe thead th {\n",
       "        text-align: right;\n",
       "    }\n",
       "</style>\n",
       "<table border=\"1\" class=\"dataframe\">\n",
       "  <thead>\n",
       "    <tr style=\"text-align: right;\">\n",
       "      <th></th>\n",
       "      <th>admission_source_id</th>\n",
       "      <th>description</th>\n",
       "    </tr>\n",
       "  </thead>\n",
       "  <tbody>\n",
       "    <tr>\n",
       "      <th>3</th>\n",
       "      <td>4</td>\n",
       "      <td>Transfer from a hospital</td>\n",
       "    </tr>\n",
       "    <tr>\n",
       "      <th>4</th>\n",
       "      <td>5</td>\n",
       "      <td>Transfer from a Skilled Nursing Facility (SNF)</td>\n",
       "    </tr>\n",
       "    <tr>\n",
       "      <th>...</th>\n",
       "      <td>...</td>\n",
       "      <td>...</td>\n",
       "    </tr>\n",
       "    <tr>\n",
       "      <th>23</th>\n",
       "      <td>25</td>\n",
       "      <td>Transfer from Ambulatory Surgery Center</td>\n",
       "    </tr>\n",
       "    <tr>\n",
       "      <th>24</th>\n",
       "      <td>26</td>\n",
       "      <td>Transfer from Hospice</td>\n",
       "    </tr>\n",
       "  </tbody>\n",
       "</table>\n",
       "<p>8 rows × 2 columns</p>\n",
       "</div>"
      ],
      "text/plain": [
       "    admission_source_id                                     description\n",
       "3                     4                        Transfer from a hospital\n",
       "4                     5  Transfer from a Skilled Nursing Facility (SNF)\n",
       "..                  ...                                             ...\n",
       "23                   25         Transfer from Ambulatory Surgery Center\n",
       "24                   26                           Transfer from Hospice\n",
       "\n",
       "[8 rows x 2 columns]"
      ]
     },
     "execution_count": 33,
     "metadata": {},
     "output_type": "execute_result"
    }
   ],
   "source": [
    "transfers = admission_source[admission_source['description'].str.contains('Transfer').fillna(False)]\n",
    "transfers"
   ]
  },
  {
   "cell_type": "markdown",
   "metadata": {},
   "source": [
    "Let's generate a list of all transfer-related admission source descriptions."
   ]
  },
  {
   "cell_type": "code",
   "execution_count": 34,
   "metadata": {},
   "outputs": [
    {
     "data": {
      "text/plain": [
       "['Transfer from a hospital',\n",
       " 'Transfer from a Skilled Nursing Facility (SNF)',\n",
       " 'Transfer from another health care facility',\n",
       " 'Transfer from critial access hospital',\n",
       " 'Transfer From Another Home Health Agency',\n",
       " 'Transfer from hospital inpt/same fac reslt in a sep claim',\n",
       " 'Transfer from Ambulatory Surgery Center',\n",
       " 'Transfer from Hospice']"
      ]
     },
     "execution_count": 34,
     "metadata": {},
     "output_type": "execute_result"
    }
   ],
   "source": [
    "transfers = transfers['description'].tolist()\n",
    "transfers"
   ]
  },
  {
   "cell_type": "code",
   "execution_count": 35,
   "metadata": {},
   "outputs": [],
   "source": [
    "admission_source['description'] = admission_source['description'].replace(transfers, 'Transfer')"
   ]
  },
  {
   "cell_type": "markdown",
   "metadata": {},
   "source": [
    "Let's now convert this into a dictionary."
   ]
  },
  {
   "cell_type": "code",
   "execution_count": 36,
   "metadata": {},
   "outputs": [
    {
     "data": {
      "text/plain": [
       "{0: 'Referral',\n",
       " 1: 'Referral',\n",
       " 2: 'Referral',\n",
       " 3: 'Transfer',\n",
       " 4: 'Transfer',\n",
       " 5: 'Transfer',\n",
       " 6: 'Emergency Room',\n",
       " 7: 'Court/Law Enforcement',\n",
       " 8: nan,\n",
       " 9: 'Transfer',\n",
       " 10: 'Normal Delivery',\n",
       " 11: 'Premature Delivery',\n",
       " 12: 'Sick Baby',\n",
       " 13: 'Extramural Birth',\n",
       " 14: nan,\n",
       " 15: nan,\n",
       " 16: 'Transfer',\n",
       " 17: 'Readmission to Same Home Health Agency',\n",
       " 18: nan,\n",
       " 19: nan,\n",
       " 20: 'Transfer',\n",
       " 21: 'Born inside this hospital',\n",
       " 22: 'Born outside this hospital',\n",
       " 23: 'Transfer',\n",
       " 24: 'Transfer'}"
      ]
     },
     "execution_count": 36,
     "metadata": {},
     "output_type": "execute_result"
    }
   ],
   "source": [
    "admission_source_mapper = admission_source.to_dict()['description']\n",
    "admission_source_mapper"
   ]
  },
  {
   "cell_type": "markdown",
   "metadata": {},
   "source": [
    "Now we can apply this mapper to the `admission_source_id` column in our original dataset."
   ]
  },
  {
   "cell_type": "code",
   "execution_count": 37,
   "metadata": {},
   "outputs": [
    {
     "data": {
      "text/html": [
       "<div>\n",
       "<style scoped>\n",
       "    .dataframe tbody tr th:only-of-type {\n",
       "        vertical-align: middle;\n",
       "    }\n",
       "\n",
       "    .dataframe tbody tr th {\n",
       "        vertical-align: top;\n",
       "    }\n",
       "\n",
       "    .dataframe thead th {\n",
       "        text-align: right;\n",
       "    }\n",
       "</style>\n",
       "<table border=\"1\" class=\"dataframe\">\n",
       "  <thead>\n",
       "    <tr style=\"text-align: right;\">\n",
       "      <th></th>\n",
       "      <th>admission_source</th>\n",
       "    </tr>\n",
       "  </thead>\n",
       "  <tbody>\n",
       "    <tr>\n",
       "      <th>0</th>\n",
       "      <td>Referral</td>\n",
       "    </tr>\n",
       "    <tr>\n",
       "      <th>1</th>\n",
       "      <td>Court/Law Enforcement</td>\n",
       "    </tr>\n",
       "    <tr>\n",
       "      <th>2</th>\n",
       "      <td>Court/Law Enforcement</td>\n",
       "    </tr>\n",
       "    <tr>\n",
       "      <th>3</th>\n",
       "      <td>Court/Law Enforcement</td>\n",
       "    </tr>\n",
       "    <tr>\n",
       "      <th>4</th>\n",
       "      <td>Court/Law Enforcement</td>\n",
       "    </tr>\n",
       "  </tbody>\n",
       "</table>\n",
       "</div>"
      ],
      "text/plain": [
       "        admission_source\n",
       "0               Referral\n",
       "1  Court/Law Enforcement\n",
       "2  Court/Law Enforcement\n",
       "3  Court/Law Enforcement\n",
       "4  Court/Law Enforcement"
      ]
     },
     "execution_count": 37,
     "metadata": {},
     "output_type": "execute_result"
    }
   ],
   "source": [
    "data['admission_source'] = data['admission_source_id'].map(admission_source_mapper)\n",
    "data[['admission_source']].head()"
   ]
  },
  {
   "cell_type": "markdown",
   "metadata": {},
   "source": [
    "### Converting Medication Features From Categorical to Boolean"
   ]
  },
  {
   "cell_type": "markdown",
   "metadata": {},
   "source": [
    "Remember that list of medications we created when we loaded in the data in Step 1? We're going to take these medication columns in our dataset and convert these features to boolean variables. "
   ]
  },
  {
   "cell_type": "code",
   "execution_count": 38,
   "metadata": {},
   "outputs": [
    {
     "data": {
      "text/plain": [
       "No        81778\n",
       "Steady    18346\n",
       "Up         1067\n",
       "Down        575\n",
       "Name: metformin, dtype: int64"
      ]
     },
     "execution_count": 38,
     "metadata": {},
     "output_type": "execute_result"
    }
   ],
   "source": [
    "data[medications[0]].value_counts()"
   ]
  },
  {
   "cell_type": "markdown",
   "metadata": {},
   "source": [
    "Medication columns are currently categorical datatypes that have several possible categories including:\n",
    "\n",
    "- \"No\" (not taking the medication)\n",
    "- \"Up\" (increased medication dose)\n",
    "- \"Down\" (decrease medication dose)\n",
    "- \"Steady\" (no changes in dose)\n",
    "\n",
    "To keep things simple, we'll update the column to \"0\" (not taking the medication) to \"1\" (taking the medication). We're losing out on information regarding their dose change, but it's a compromise we're willing to make to simplify our dataset.\n",
    "\n",
    "We can use [numpy.where](https://docs.scipy.org/doc/numpy/reference/generated/numpy.where.html) to "
   ]
  },
  {
   "cell_type": "code",
   "execution_count": 39,
   "metadata": {},
   "outputs": [],
   "source": [
    "for m in medications:\n",
    "    data[f'{m}_bool'] = np.where(data[m]=='No', 0, 1)"
   ]
  },
  {
   "cell_type": "markdown",
   "metadata": {},
   "source": [
    "Let's take a look at the prevelance of these medications. We'll calcualte the proportion of patients taking each type of medication. Because some patients have had multiple hospital admissions in this dataset, we'll need to do some wrangling to determine whether a patient was on a given medication during any of their admissions. We'll apply `groupby` to `patient_nbr` and calculate the sum of admissions in which the patient was administered a medication. "
   ]
  },
  {
   "cell_type": "code",
   "execution_count": 63,
   "metadata": {},
   "outputs": [],
   "source": [
    "prevelance = []\n",
    "\n",
    "for m in medications:\n",
    "    patient_meds = data.groupby('patient_nbr')[f'{m}_bool'].sum().reset_index()\n",
    "    patient_meds[f'{m}_bool'] = patient_meds[f'{m}_bool'].astype(bool)\n",
    "    n_patients_on_med = patient_meds[f'{m}_bool'].sum()\n",
    "    proportion = n_patients_on_med/n_patients\n",
    "    prevelance.append(proportion)"
   ]
  },
  {
   "cell_type": "markdown",
   "metadata": {},
   "source": [
    "Now that we have a list of medication prevelance, we can create a dataframe and sort by prevelance to determine which medications are most prevelant in our dataset. "
   ]
  },
  {
   "cell_type": "code",
   "execution_count": 73,
   "metadata": {},
   "outputs": [
    {
     "data": {
      "text/html": [
       "<div>\n",
       "<style scoped>\n",
       "    .dataframe tbody tr th:only-of-type {\n",
       "        vertical-align: middle;\n",
       "    }\n",
       "\n",
       "    .dataframe tbody tr th {\n",
       "        vertical-align: top;\n",
       "    }\n",
       "\n",
       "    .dataframe thead th {\n",
       "        text-align: right;\n",
       "    }\n",
       "</style>\n",
       "<table border=\"1\" class=\"dataframe\">\n",
       "  <thead>\n",
       "    <tr style=\"text-align: right;\">\n",
       "      <th></th>\n",
       "      <th>medication</th>\n",
       "      <th>prevelance</th>\n",
       "    </tr>\n",
       "  </thead>\n",
       "  <tbody>\n",
       "    <tr>\n",
       "      <th>17</th>\n",
       "      <td>insulin</td>\n",
       "      <td>0.553385</td>\n",
       "    </tr>\n",
       "    <tr>\n",
       "      <th>0</th>\n",
       "      <td>metformin</td>\n",
       "      <td>0.230390</td>\n",
       "    </tr>\n",
       "    <tr>\n",
       "      <th>6</th>\n",
       "      <td>glipizide</td>\n",
       "      <td>0.139797</td>\n",
       "    </tr>\n",
       "    <tr>\n",
       "      <th>7</th>\n",
       "      <td>glyburide</td>\n",
       "      <td>0.119662</td>\n",
       "    </tr>\n",
       "    <tr>\n",
       "      <th>9</th>\n",
       "      <td>pioglitazone</td>\n",
       "      <td>0.083042</td>\n",
       "    </tr>\n",
       "  </tbody>\n",
       "</table>\n",
       "</div>"
      ],
      "text/plain": [
       "      medication  prevelance\n",
       "17       insulin    0.553385\n",
       "0      metformin    0.230390\n",
       "6      glipizide    0.139797\n",
       "7      glyburide    0.119662\n",
       "9   pioglitazone    0.083042"
      ]
     },
     "execution_count": 73,
     "metadata": {},
     "output_type": "execute_result"
    }
   ],
   "source": [
    "medication_counts = pd.DataFrame({'medication': medications, 'prevelance':prevelance})\n",
    "\n",
    "medication_counts = medication_counts.sort_values(by='prevelance', ascending=False)\n",
    "medication_counts.head()"
   ]
  },
  {
   "cell_type": "markdown",
   "metadata": {},
   "source": [
    "Let's also visualize the top 10 most prevelance medications. We'll use `seaborn`'s [barplot](https://seaborn.pydata.org/generated/seaborn.barplot.html) method."
   ]
  },
  {
   "cell_type": "code",
   "execution_count": 85,
   "metadata": {},
   "outputs": [
    {
     "data": {
      "image/png": "[encoded data removed]",
      "text/plain": [
       "<Figure size 432x288 with 1 Axes>"
      ]
     },
     "metadata": {
      "needs_background": "light"
     },
     "output_type": "display_data"
    }
   ],
   "source": [
    "sns.barplot(x='medication', y='prevelance', data=medication_counts.head(10), palette='viridis')\n",
    "plt.xticks(rotation=90)\n",
    "plt.show()"
   ]
  },
  {
   "cell_type": "code",
   "execution_count": 108,
   "metadata": {},
   "outputs": [],
   "source": [
    "from utils import get_mesh_from_drug_name\n",
    "\n",
    "top_ten_meds = medication_counts.head(10)['medication'].tolist()\n",
    "\n",
    "med_mesh_descriptors = dict()\n",
    "for m in top_ten_meds:\n",
    "    med_mesh_descriptors[m] = get_mesh_from_drug_name(m)"
   ]
  },
  {
   "cell_type": "code",
   "execution_count": 110,
   "metadata": {},
   "outputs": [
    {
     "data": {
      "text/plain": [
       "{'insulin': [],\n",
       " 'metformin': ['Hypoglycemic Agents'],\n",
       " 'glipizide': ['Hypoglycemic Agents'],\n",
       " 'glyburide': ['Hypoglycemic Agents'],\n",
       " 'pioglitazone': ['Hypoglycemic Agents'],\n",
       " 'rosiglitazone': ['Hypoglycemic Agents'],\n",
       " 'glimepiride': ['Anti-Arrhythmia Agents',\n",
       "  'Immunosuppressive Agents',\n",
       "  'Hypoglycemic Agents'],\n",
       " 'repaglinide': ['Hypoglycemic Agents'],\n",
       " 'nateglinide': ['Hypoglycemic Agents'],\n",
       " 'glyburide-metformin': ['Hypoglycemic Agents']}"
      ]
     },
     "execution_count": 110,
     "metadata": {},
     "output_type": "execute_result"
    }
   ],
   "source": [
    "med_mesh_descriptors"
   ]
  },
  {
   "cell_type": "markdown",
   "metadata": {},
   "source": [
    "MeSH terms are a type of \"tag\" that describes a medical term. We used RxNav's API to further investigate which MeSH terms are assocaited with our list of medications. The results show that all medications have a single MeSH term, [hypoglycemic agent](https://en.wikipedia.org/wiki/Anti-diabetic_medication), which means it's an anti-diabetic medication.\n",
    "\n",
    "If you want to learn more about each medication in our dataset, check out the [RxNav dashboard](https://mor.nlm.nih.gov/RxNav/) which gives an overview of medication properties and interactions.\n",
    "\n",
    "<img src=\"https://s3.us-east-2.amazonaws.com/hidden.layers.assets/rxnav_dashboard.png\" width=\"70%\"/>"
   ]
  },
  {
   "cell_type": "markdown",
   "metadata": {},
   "source": [
    "### Creating a Target Variable"
   ]
  },
  {
   "cell_type": "code",
   "execution_count": 37,
   "metadata": {},
   "outputs": [
    {
     "data": {
      "text/plain": [
       "NO     54864\n",
       ">30    35545\n",
       "<30    11357\n",
       "Name: readmitted, dtype: int64"
      ]
     },
     "execution_count": 37,
     "metadata": {},
     "output_type": "execute_result"
    }
   ],
   "source": [
    "data['readmitted'].value_counts()"
   ]
  },
  {
   "cell_type": "code",
   "execution_count": 38,
   "metadata": {},
   "outputs": [],
   "source": [
    "data['readmitted_bool'] = np.where(data['readmitted']=='NO', 0, 1)"
   ]
  },
  {
   "cell_type": "code",
   "execution_count": 39,
   "metadata": {},
   "outputs": [
    {
     "data": {
      "text/plain": [
       "0    54864\n",
       "1    46902\n",
       "Name: readmitted_bool, dtype: int64"
      ]
     },
     "execution_count": 39,
     "metadata": {},
     "output_type": "execute_result"
    }
   ],
   "source": [
    "data['readmitted_bool'].value_counts()"
   ]
  },
  {
   "cell_type": "markdown",
   "metadata": {},
   "source": [
    "## Step 4: Data Exploration and Visualization"
   ]
  },
  {
   "cell_type": "markdown",
   "metadata": {},
   "source": [
    "### Assessing Missing Values\n",
    "\n",
    "To get a better sense of the missing values in our data, let's visualize it using [missingno](https://github.com/ResidentMario/missingno)'s \"nullity\" matrix."
   ]
  },
  {
   "cell_type": "code",
   "execution_count": 111,
   "metadata": {},
   "outputs": [
    {
     "data": {
      "text/plain": [
       "<matplotlib.axes._subplots.AxesSubplot at 0x11c890210>"
      ]
     },
     "execution_count": 111,
     "metadata": {},
     "output_type": "execute_result"
    },
    {
     "data": {
      "image/png": "[encoded data removed]",
      "text/plain": [
       "<Figure size 1800x720 with 2 Axes>"
      ]
     },
     "metadata": {
      "needs_background": "light"
     },
     "output_type": "display_data"
    }
   ],
   "source": [
    "import missingno as msno\n",
    "\n",
    "msno.matrix(data)"
   ]
  },
  {
   "cell_type": "markdown",
   "metadata": {},
   "source": [
    "The data-dense columns are fully black, while the sparse columns (with missing values) have a mixture of white and black. "
   ]
  },
  {
   "cell_type": "markdown",
   "metadata": {},
   "source": [
    "### Patient Demographics: Age and Gender"
   ]
  },
  {
   "cell_type": "code",
   "execution_count": 41,
   "metadata": {},
   "outputs": [
    {
     "data": {
      "image/png": "[encoded data removed]",
      "text/plain": [
       "<Figure size 1008x288 with 2 Axes>"
      ]
     },
     "metadata": {
      "needs_background": "light"
     },
     "output_type": "display_data"
    }
   ],
   "source": [
    "plt.figure(figsize=(14,4))\n",
    "plt.subplot(1,2,1)\n",
    "sns.countplot(x='age', data=data, palette='viridis')\n",
    "plt.title(\"Distribution of Age\")\n",
    "\n",
    "plt.subplot(1,2,2)\n",
    "sns.countplot(data['gender'], palette='viridis')\n",
    "plt.title(\"Distribution of Gender\")\n",
    "plt.show()"
   ]
  },
  {
   "cell_type": "code",
   "execution_count": 42,
   "metadata": {},
   "outputs": [
    {
     "data": {
      "text/plain": [
       "Female    0.537602\n",
       "Male      0.462398\n",
       "Name: gender, dtype: float64"
      ]
     },
     "execution_count": 42,
     "metadata": {},
     "output_type": "execute_result"
    }
   ],
   "source": [
    "data['gender'].value_counts(normalize=True)"
   ]
  },
  {
   "cell_type": "markdown",
   "metadata": {},
   "source": [
    "### How long were hospital stays for a given admission?"
   ]
  },
  {
   "cell_type": "code",
   "execution_count": 43,
   "metadata": {},
   "outputs": [
    {
     "data": {
      "image/png": "[encoded data removed]",
      "text/plain": [
       "<Figure size 576x432 with 1 Axes>"
      ]
     },
     "metadata": {
      "needs_background": "light"
     },
     "output_type": "display_data"
    }
   ],
   "source": [
    "plt.figure(figsize=(8,6))\n",
    "sns.countplot(data['time_in_hospital'], palette='viridis')\n",
    "plt.xlabel(\"time in hospital (days)\")\n",
    "plt.title(\"Length of Hospital Stay\")\n",
    "plt.show()"
   ]
  },
  {
   "cell_type": "code",
   "execution_count": 44,
   "metadata": {},
   "outputs": [
    {
     "name": "stdout",
     "output_type": "stream",
     "text": [
      "Mean time in hospital: 4.40\n"
     ]
    }
   ],
   "source": [
    "print(f\"Mean time in hospital: {data['time_in_hospital'].mean():.2f}\")"
   ]
  },
  {
   "cell_type": "markdown",
   "metadata": {},
   "source": [
    "### Number of Diagnoses, Procedures, Medications"
   ]
  },
  {
   "cell_type": "code",
   "execution_count": 45,
   "metadata": {},
   "outputs": [
    {
     "name": "stderr",
     "output_type": "stream",
     "text": [
      "/usr/local/lib/python3.7/site-packages/scipy/stats/stats.py:1713: FutureWarning: Using a non-tuple sequence for multidimensional indexing is deprecated; use `arr[tuple(seq)]` instead of `arr[seq]`. In the future this will be interpreted as an array index, `arr[np.array(seq)]`, which will result either in an error or a different result.\n",
      "  return np.add.reduce(sorted[indexer] * weights, axis=axis) / sumval\n"
     ]
    },
    {
     "data": {
      "text/plain": [
       "Text(0.5, 1.0, 'Number of Lab Procedures, mean: 43.10')"
      ]
     },
     "execution_count": 45,
     "metadata": {},
     "output_type": "execute_result"
    },
    {
     "data": {
      "image/png": "[encoded data removed]",
      "text/plain": [
       "<Figure size 1008x360 with 2 Axes>"
      ]
     },
     "metadata": {
      "needs_background": "light"
     },
     "output_type": "display_data"
    }
   ],
   "source": [
    "plt.figure(figsize=(14,5))\n",
    "\n",
    "plt.subplot(1,2,1)\n",
    "sns.kdeplot(data['num_medications'], shade=True)\n",
    "plt.title(f\"Number of Medications, mean: {data['num_medications'].mean():.2f}\")\n",
    "\n",
    "plt.subplot(1,2,2)\n",
    "sns.kdeplot(data['num_lab_procedures'], shade=True)\n",
    "plt.title(f\"Number of Lab Procedures, mean: {data['num_lab_procedures'].mean():.2f}\")"
   ]
  },
  {
   "cell_type": "markdown",
   "metadata": {},
   "source": [
    "### What was the most common medical specialty?\n",
    "\n",
    "Medical specialty of attending physician."
   ]
  },
  {
   "cell_type": "code",
   "execution_count": 46,
   "metadata": {},
   "outputs": [
    {
     "data": {
      "text/html": [
       "<div>\n",
       "<style scoped>\n",
       "    .dataframe tbody tr th:only-of-type {\n",
       "        vertical-align: middle;\n",
       "    }\n",
       "\n",
       "    .dataframe tbody tr th {\n",
       "        vertical-align: top;\n",
       "    }\n",
       "\n",
       "    .dataframe thead th {\n",
       "        text-align: right;\n",
       "    }\n",
       "</style>\n",
       "<table border=\"1\" class=\"dataframe\">\n",
       "  <thead>\n",
       "    <tr style=\"text-align: right;\">\n",
       "      <th></th>\n",
       "      <th>specialty</th>\n",
       "      <th>count</th>\n",
       "      <th>prevalence</th>\n",
       "    </tr>\n",
       "  </thead>\n",
       "  <tbody>\n",
       "    <tr>\n",
       "      <th>0</th>\n",
       "      <td>InternalMedicine</td>\n",
       "      <td>14635</td>\n",
       "      <td>0.143810</td>\n",
       "    </tr>\n",
       "    <tr>\n",
       "      <th>1</th>\n",
       "      <td>Emergency/Trauma</td>\n",
       "      <td>7565</td>\n",
       "      <td>0.074337</td>\n",
       "    </tr>\n",
       "    <tr>\n",
       "      <th>2</th>\n",
       "      <td>Family/GeneralPractice</td>\n",
       "      <td>7440</td>\n",
       "      <td>0.073109</td>\n",
       "    </tr>\n",
       "    <tr>\n",
       "      <th>3</th>\n",
       "      <td>Cardiology</td>\n",
       "      <td>5352</td>\n",
       "      <td>0.052591</td>\n",
       "    </tr>\n",
       "    <tr>\n",
       "      <th>4</th>\n",
       "      <td>Surgery-General</td>\n",
       "      <td>3099</td>\n",
       "      <td>0.030452</td>\n",
       "    </tr>\n",
       "    <tr>\n",
       "      <th>5</th>\n",
       "      <td>Nephrology</td>\n",
       "      <td>1613</td>\n",
       "      <td>0.015850</td>\n",
       "    </tr>\n",
       "    <tr>\n",
       "      <th>6</th>\n",
       "      <td>Orthopedics</td>\n",
       "      <td>1400</td>\n",
       "      <td>0.013757</td>\n",
       "    </tr>\n",
       "    <tr>\n",
       "      <th>7</th>\n",
       "      <td>Orthopedics-Reconstructive</td>\n",
       "      <td>1233</td>\n",
       "      <td>0.012116</td>\n",
       "    </tr>\n",
       "    <tr>\n",
       "      <th>8</th>\n",
       "      <td>Radiologist</td>\n",
       "      <td>1140</td>\n",
       "      <td>0.011202</td>\n",
       "    </tr>\n",
       "    <tr>\n",
       "      <th>9</th>\n",
       "      <td>Pulmonology</td>\n",
       "      <td>871</td>\n",
       "      <td>0.008559</td>\n",
       "    </tr>\n",
       "  </tbody>\n",
       "</table>\n",
       "</div>"
      ],
      "text/plain": [
       "                    specialty  count  prevalence\n",
       "0            InternalMedicine  14635    0.143810\n",
       "1            Emergency/Trauma   7565    0.074337\n",
       "2      Family/GeneralPractice   7440    0.073109\n",
       "3                  Cardiology   5352    0.052591\n",
       "4             Surgery-General   3099    0.030452\n",
       "5                  Nephrology   1613    0.015850\n",
       "6                 Orthopedics   1400    0.013757\n",
       "7  Orthopedics-Reconstructive   1233    0.012116\n",
       "8                 Radiologist   1140    0.011202\n",
       "9                 Pulmonology    871    0.008559"
      ]
     },
     "execution_count": 46,
     "metadata": {},
     "output_type": "execute_result"
    }
   ],
   "source": [
    "medical_specialties = data['medical_specialty'].value_counts().reset_index()\n",
    "medical_specialties.columns = ['specialty', 'count']\n",
    "medical_specialties['prevalence'] = medical_specialties['count']/len(data)\n",
    "\n",
    "medical_specialties.head(10)"
   ]
  },
  {
   "cell_type": "markdown",
   "metadata": {},
   "source": [
    "### Medications"
   ]
  },
  {
   "cell_type": "code",
   "execution_count": 47,
   "metadata": {},
   "outputs": [
    {
     "data": {
      "text/plain": [
       "No        101680\n",
       "Steady        79\n",
       "Up             6\n",
       "Down           1\n",
       "Name: chlorpropamide, dtype: int64"
      ]
     },
     "execution_count": 47,
     "metadata": {},
     "output_type": "execute_result"
    }
   ],
   "source": [
    "data[medications[3]].value_counts()"
   ]
  },
  {
   "cell_type": "code",
   "execution_count": 48,
   "metadata": {},
   "outputs": [
    {
     "data": {
      "text/plain": [
       "1    78363\n",
       "0    23403\n",
       "Name: diabetesMed, dtype: int64"
      ]
     },
     "execution_count": 48,
     "metadata": {},
     "output_type": "execute_result"
    }
   ],
   "source": [
    "data['diabetesMed'] = data['diabetesMed'].map({'Yes': 1, 'No':0})\n",
    "data['diabetesMed'].value_counts()"
   ]
  },
  {
   "cell_type": "markdown",
   "metadata": {},
   "source": [
    "### A1C \n",
    "\n",
    "According to the Mayo Clinic:\n",
    "\n",
    "> *An A1C level above 8 percent means that your diabetes is not well-controlled and you have a higher risk of developing complications of diabetes.*"
   ]
  },
  {
   "cell_type": "code",
   "execution_count": 49,
   "metadata": {},
   "outputs": [
    {
     "data": {
      "text/plain": [
       ">8      8216\n",
       "Norm    4990\n",
       ">7      3812\n",
       "Name: A1Cresult, dtype: int64"
      ]
     },
     "execution_count": 49,
     "metadata": {},
     "output_type": "execute_result"
    }
   ],
   "source": [
    "data['A1Cresult'].value_counts()"
   ]
  },
  {
   "cell_type": "code",
   "execution_count": 7,
   "metadata": {},
   "outputs": [],
   "source": [
    "data['A1Cresult_bool'] = np.where(data['A1Cresult']=='Norm', 1, 0)"
   ]
  },
  {
   "cell_type": "markdown",
   "metadata": {},
   "source": [
    "## Step 5: Feature Selection"
   ]
  },
  {
   "cell_type": "markdown",
   "metadata": {},
   "source": [
    "Talk about the importance of feature selection / feature engineering."
   ]
  },
  {
   "cell_type": "markdown",
   "metadata": {},
   "source": [
    "## Step 6: Building the Binary Classification ML Model"
   ]
  },
  {
   "cell_type": "markdown",
   "metadata": {},
   "source": [
    "No Free Lunch Theorem!!!\n",
    "\n",
    "- Support Vector Machine\n",
    "- Random Forest Classifier\n",
    "- K-Neighbours\n",
    "- Logistic Regression\n",
    "- AdaBoost Classifier"
   ]
  },
  {
   "cell_type": "code",
   "execution_count": 51,
   "metadata": {},
   "outputs": [
    {
     "data": {
      "text/plain": [
       "Index(['encounter_id', 'patient_nbr', 'race', 'gender', 'age', 'weight',\n",
       "       'admission_type_id', 'admission_source_id', 'time_in_hospital',\n",
       "       'medical_specialty', 'num_lab_procedures', 'num_procedures',\n",
       "       'num_medications', 'number_outpatient', 'number_emergency',\n",
       "       'number_inpatient', 'number_diagnoses', 'max_glu_serum', 'A1Cresult',\n",
       "       'metformin', 'repaglinide', 'nateglinide', 'chlorpropamide',\n",
       "       'glimepiride', 'acetohexamide', 'glipizide', 'glyburide', 'tolbutamide',\n",
       "       'pioglitazone', 'rosiglitazone', 'acarbose', 'miglitol', 'troglitazone',\n",
       "       'tolazamide', 'examide', 'citoglipton', 'insulin',\n",
       "       'glyburide-metformin', 'glipizide-metformin',\n",
       "       'glimepiride-pioglitazone', 'metformin-rosiglitazone',\n",
       "       'metformin-pioglitazone', 'diabetesMed', 'readmitted', 'admission_type',\n",
       "       'admission_source', 'metformin_bool', 'repaglinide_bool',\n",
       "       'nateglinide_bool', 'chlorpropamide_bool', 'glimepiride_bool',\n",
       "       'acetohexamide_bool', 'glipizide_bool', 'glyburide_bool',\n",
       "       'tolbutamide_bool', 'pioglitazone_bool', 'rosiglitazone_bool',\n",
       "       'acarbose_bool', 'miglitol_bool', 'troglitazone_bool',\n",
       "       'tolazamide_bool', 'examide_bool', 'citoglipton_bool', 'insulin_bool',\n",
       "       'glyburide-metformin_bool', 'glipizide-metformin_bool',\n",
       "       'glimepiride-pioglitazone_bool', 'metformin-rosiglitazone_bool',\n",
       "       'metformin-pioglitazone_bool', 'readmitted_bool'],\n",
       "      dtype='object')"
      ]
     },
     "execution_count": 51,
     "metadata": {},
     "output_type": "execute_result"
    }
   ],
   "source": [
    "data.columns"
   ]
  },
  {
   "cell_type": "code",
   "execution_count": 52,
   "metadata": {},
   "outputs": [],
   "source": [
    "from sklearn.ensemble import AdaBoostClassifier"
   ]
  },
  {
   "cell_type": "code",
   "execution_count": 63,
   "metadata": {},
   "outputs": [],
   "source": [
    "X = data[['metformin_bool', 'repaglinide_bool',\n",
    "       'nateglinide_bool', 'chlorpropamide_bool', 'glimepiride_bool',\n",
    "       'acetohexamide_bool', 'glipizide_bool', 'glyburide_bool',\n",
    "       'tolbutamide_bool', 'pioglitazone_bool', 'rosiglitazone_bool',\n",
    "       'acarbose_bool', 'miglitol_bool', 'troglitazone_bool',\n",
    "       'tolazamide_bool', 'examide_bool', 'citoglipton_bool', 'insulin_bool',\n",
    "       'glyburide-metformin_bool', 'glipizide-metformin_bool',\n",
    "       'glimepiride-pioglitazone_bool', 'metformin-rosiglitazone_bool',\n",
    "       'metformin-pioglitazone_bool', 'num_lab_procedures', 'num_procedures',\n",
    "       'num_medications', 'number_outpatient', 'number_emergency',\n",
    "       'number_inpatient', 'number_diagnoses']]\n",
    "\n",
    "y = data[['readmitted_bool']]"
   ]
  },
  {
   "cell_type": "code",
   "execution_count": 64,
   "metadata": {},
   "outputs": [],
   "source": [
    "from sklearn.model_selection import train_test_split"
   ]
  },
  {
   "cell_type": "code",
   "execution_count": 65,
   "metadata": {},
   "outputs": [],
   "source": [
    "X_train, X_test, y_train, y_test = train_test_split(X,y, test_size=0.4)"
   ]
  },
  {
   "cell_type": "code",
   "execution_count": 72,
   "metadata": {},
   "outputs": [
    {
     "name": "stderr",
     "output_type": "stream",
     "text": [
      "/usr/local/lib/python3.7/site-packages/sklearn/utils/validation.py:752: DataConversionWarning: A column-vector y was passed when a 1d array was expected. Please change the shape of y to (n_samples, ), for example using ravel().\n",
      "  y = column_or_1d(y, warn=True)\n"
     ]
    },
    {
     "data": {
      "text/plain": [
       "0.6188616208514506"
      ]
     },
     "execution_count": 72,
     "metadata": {},
     "output_type": "execute_result"
    }
   ],
   "source": [
    "model = AdaBoostClassifier(n_estimators=15)\n",
    "model.fit(X_train, y_train)\n",
    "model.score(X_test, y_test)"
   ]
  },
  {
   "cell_type": "code",
   "execution_count": null,
   "metadata": {},
   "outputs": [],
   "source": []
  }
 ],
 "metadata": {
  "kernelspec": {
   "display_name": "Python 3",
   "language": "python",
   "name": "python3"
  },
  "language_info": {
   "codemirror_mode": {
    "name": "ipython",
    "version": 3
   },
   "file_extension": ".py",
   "mimetype": "text/x-python",
   "name": "python",
   "nbconvert_exporter": "python",
   "pygments_lexer": "ipython3",
   "version": "3.7.4"
  }
 },
 "nbformat": 4,
 "nbformat_minor": 2
}
